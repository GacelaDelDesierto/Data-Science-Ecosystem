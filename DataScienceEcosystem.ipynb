{
 "cells": [
  {
   "cell_type": "markdown",
   "id": "3dee8e20-5bec-4834-98e6-2661f44a02e5",
   "metadata": {},
   "source": [
    "# Data Science Tools and Ecosystem"
   ]
  },
  {
   "cell_type": "markdown",
   "id": "ab4ec572-203e-4f0d-bad0-660ba3c106b4",
   "metadata": {},
   "source": [
    "## In this notebook, Data Science Tools and Ecosystem are summarized"
   ]
  },
  {
   "cell_type": "markdown",
   "id": "cdb5f23b-b5b4-495f-aac8-f987a7b178fa",
   "metadata": {},
   "source": [
    "### Some of the popular languages that Data Scientists use are: \n",
    "1. Python\n",
    "2. R\n",
    "3. Julia"
   ]
  },
  {
   "cell_type": "markdown",
   "id": "1b50ee72-e9f1-4a13-a00a-55c1d2b17b92",
   "metadata": {},
   "source": [
    "### Some of the commonly used libraries used by Data Scientists include:\n",
    "1. Pandas\n",
    "2. Matplolib\n",
    "3. PyTorch"
   ]
  },
  {
   "cell_type": "markdown",
   "id": "ab618fed-dc7a-41f3-adea-c91eed425d1f",
   "metadata": {},
   "source": [
    "|Data Science Tools|\n",
    "------------------\n",
    "|RStudio|\n",
    "|Apache Hadoop|\n",
    "|Anaconda|\n"
   ]
  },
  {
   "cell_type": "markdown",
   "id": "cba31a31-515b-4616-9e23-9ea9c4cca72d",
   "metadata": {},
   "source": [
    "### Below are a few examples of evaluating arithmetic expressions in Python"
   ]
  },
  {
   "cell_type": "code",
   "execution_count": 24,
   "id": "2c1763c8-f209-453b-9b19-b1000e6be9fb",
   "metadata": {},
   "outputs": [
    {
     "data": {
      "text/plain": [
       "17"
      ]
     },
     "execution_count": 24,
     "metadata": {},
     "output_type": "execute_result"
    }
   ],
   "source": [
    "(3*4)+5\n",
    "# This a simple arithmetic expression to mutiply then add integers"
   ]
  },
  {
   "cell_type": "code",
   "execution_count": 30,
   "id": "1d828617-78d2-4696-b34b-9d1e3e98327a",
   "metadata": {},
   "outputs": [
    {
     "data": {
      "text/plain": [
       "3.3333333333333335"
      ]
     },
     "execution_count": 30,
     "metadata": {},
     "output_type": "execute_result"
    }
   ],
   "source": [
    "# Convert 200 minutes into hours\n",
    "minutes = 200\n",
    "hours = minutes / 60\n",
    "hours"
   ]
  },
  {
   "cell_type": "markdown",
   "id": "fce595ac-f9e7-407f-8510-b4e3001f4a3e",
   "metadata": {},
   "source": [
    "**Objectives:**\n",
    "- Python\n",
    "- R\n",
    "- Julia\n",
    "- Scala\n",
    "- SQL\n"
   ]
  },
  {
   "cell_type": "markdown",
   "id": "95935629-8eb4-485e-a599-fffb531e744f",
   "metadata": {},
   "source": [
    "## Author\n",
    "María del Carmen B.M."
   ]
  },
  {
   "cell_type": "code",
   "execution_count": null,
   "id": "05d7c074-7764-434e-be3f-cbb2073d063a",
   "metadata": {},
   "outputs": [],
   "source": []
  }
 ],
 "metadata": {
  "kernelspec": {
   "display_name": "Python 3 (ipykernel)",
   "language": "python",
   "name": "python3"
  },
  "language_info": {
   "codemirror_mode": {
    "name": "ipython",
    "version": 3
   },
   "file_extension": ".py",
   "mimetype": "text/x-python",
   "name": "python",
   "nbconvert_exporter": "python",
   "pygments_lexer": "ipython3",
   "version": "3.12.4"
  }
 },
 "nbformat": 4,
 "nbformat_minor": 5
}
